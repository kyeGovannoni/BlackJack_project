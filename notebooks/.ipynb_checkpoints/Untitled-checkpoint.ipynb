{
 "cells": [
  {
   "cell_type": "code",
   "execution_count": 44,
   "id": "797071ff",
   "metadata": {},
   "outputs": [],
   "source": [
    "from pathlib import Path\n",
    "from json import loads\n",
    "from pprint import pprint\n",
    "import matplotlib.pyplot as plt"
   ]
  },
  {
   "cell_type": "code",
   "execution_count": 33,
   "id": "648ec6e6",
   "metadata": {},
   "outputs": [],
   "source": [
    "path = Path('/home/kye/Documents/projects_/backjack_lw/sim results/countDist')\n",
    "with open(path,'r') as f:\n",
    "    count_dist = loads(f.read())"
   ]
  },
  {
   "cell_type": "code",
   "execution_count": 58,
   "id": "2dfd24be",
   "metadata": {},
   "outputs": [
    {
     "data": {
      "image/png": "[encoded data removed]",
      "text/plain": [
       "<Figure size 432x288 with 1 Axes>"
      ]
     },
     "metadata": {
      "needs_background": "light"
     },
     "output_type": "display_data"
    }
   ],
   "source": [
    "plt.bar(\n",
    " list(map(int, count_dist.keys())),\n",
    " list(map(lambda x:x ,count_dist.values()))\n",
    ")\n",
    "plt.show()"
   ]
  },
  {
   "cell_type": "code",
   "execution_count": 52,
   "id": "5a44518b",
   "metadata": {},
   "outputs": [
    {
     "data": {
      "text/plain": [
       "dict_values([10706885, 2951686, 1710130, 989877, 603613, 346612, 2957414, 1705320, 975311, 213977, 124483, 599100, 342876, 210403, 122390, 76019, 42730, 23347, 12686, 76372, 42320, 23588, 12891, 6871, 4211, 7029, 4378, 2006, 2023, 929, 482, 235, 116, 888, 410, 185, 87, 27, 41, 21, 10, 1, 7, 11, 2])"
      ]
     },
     "execution_count": 52,
     "metadata": {},
     "output_type": "execute_result"
    }
   ],
   "source": [
    "\n",
    "count_dist.values()\n"
   ]
  },
  {
   "cell_type": "code",
   "execution_count": null,
   "id": "e91166dd",
   "metadata": {},
   "outputs": [],
   "source": []
  }
 ],
 "metadata": {
  "kernelspec": {
   "display_name": "Python 3 (ipykernel)",
   "language": "python",
   "name": "python3"
  },
  "language_info": {
   "codemirror_mode": {
    "name": "ipython",
    "version": 3
   },
   "file_extension": ".py",
   "mimetype": "text/x-python",
   "name": "python",
   "nbconvert_exporter": "python",
   "pygments_lexer": "ipython3",
   "version": "3.10.0"
  }
 },
 "nbformat": 4,
 "nbformat_minor": 5
}

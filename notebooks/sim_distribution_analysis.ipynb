{
 "cells": [
  {
   "cell_type": "code",
   "execution_count": 37,
   "id": "a78199b4",
   "metadata": {},
   "outputs": [],
   "source": [
    "from pathlib import Path\n",
    "from json import loads\n",
    "import matplotlib.pyplot as plt\n",
    "import subprocess\n",
    "import os"
   ]
  },
  {
   "cell_type": "code",
   "execution_count": 38,
   "id": "2498d81d",
   "metadata": {},
   "outputs": [
    {
     "name": "stdout",
     "output_type": "stream",
     "text": [
      "/home/kye/Documents/projects_/backjack_lw/sims\n"
     ]
    }
   ],
   "source": [
    "os.chdir('/home/kye/Documents/projects_/backjack_lw/sims')\n",
    "print(os.getcwd())"
   ]
  },
  {
   "cell_type": "code",
   "execution_count": 39,
   "id": "7377e17f",
   "metadata": {},
   "outputs": [
    {
     "data": {
      "text/plain": [
       "CompletedProcess(args=['python', 'count_distribution.py', '-d 1', '-s 1', '-o rcount_dist_results_1_1_100', '-p 1'], returncode=0)"
      ]
     },
     "execution_count": 39,
     "metadata": {},
     "output_type": "execute_result"
    }
   ],
   "source": [
    "decks = 1\n",
    "sims = 1\n",
    "pen = 1\n",
    "output = f'rcount_dist_results_{decks}_{sims}_{int(pen*100)}' \n",
    "sim_path = 'count_distribution.py'\n",
    "\n",
    "#Run the simulation. \n",
    "subprocess.run(\n",
    "        ['python',\n",
    "        sim_path,\n",
    "        f'-d {decks}',\n",
    "        f'-s {sims}',\n",
    "        f'-o {output}',\n",
    "        f'-p {pen}']\n",
    "    )"
   ]
  },
  {
   "cell_type": "code",
   "execution_count": 40,
   "id": "c31c9d0b",
   "metadata": {},
   "outputs": [],
   "source": [
    "def dict_combine(iterable):\n",
    "    #Takes a list of dictionaries and combines the key values into one dictionary.\n",
    "    result_dict = {}\n",
    "    for d in iterable:\n",
    "        for key, value in d.items():\n",
    "            try:\n",
    "                result_dict[key] += value\n",
    "            except KeyError:\n",
    "                result_dict[key] = value\n",
    "    return result_dict"
   ]
  },
  {
   "cell_type": "code",
   "execution_count": 41,
   "id": "cf3e2602",
   "metadata": {},
   "outputs": [],
   "source": [
    "#read data from results file and prepare.\n",
    "data = [] \n",
    "\n",
    "path = Path(os.getcwd() + f'/results/{output}')\n",
    "with open(path,'r') as fh:\n",
    "    for line in fh:\n",
    "        data.append(\n",
    "                loads(line)\n",
    "                    )\n",
    "\n",
    "data_ready = dict_combine(data)\n"
   ]
  },
  {
   "cell_type": "code",
   "execution_count": 42,
   "id": "17d2c94c",
   "metadata": {},
   "outputs": [
    {
     "data": {
      "image/png": "[encoded data removed]",
      "text/plain": [
       "<Figure size 432x288 with 1 Axes>"
      ]
     },
     "metadata": {
      "needs_background": "light"
     },
     "output_type": "display_data"
    }
   ],
   "source": [
    "\n",
    "plt.bar(\n",
    " list(map(int, data_ready.keys())),\n",
    " list(map(lambda x:x ,data_ready.values()))\n",
    ")\n",
    "plt.show()"
   ]
  },
  {
   "cell_type": "code",
   "execution_count": 43,
   "id": "9b4e84e3",
   "metadata": {},
   "outputs": [
    {
     "data": {
      "text/plain": [
       "2490"
      ]
     },
     "execution_count": 43,
     "metadata": {},
     "output_type": "execute_result"
    }
   ],
   "source": [
    "sum(data_ready.values())"
   ]
  },
  {
   "cell_type": "code",
   "execution_count": null,
   "id": "326001fb",
   "metadata": {},
   "outputs": [],
   "source": []
  }
 ],
 "metadata": {
  "kernelspec": {
   "display_name": "Python 3 (ipykernel)",
   "language": "python",
   "name": "python3"
  },
  "language_info": {
   "codemirror_mode": {
    "name": "ipython",
    "version": 3
   },
   "file_extension": ".py",
   "mimetype": "text/x-python",
   "name": "python",
   "nbconvert_exporter": "python",
   "pygments_lexer": "ipython3",
   "version": "3.10.0"
  }
 },
 "nbformat": 4,
 "nbformat_minor": 5
}
